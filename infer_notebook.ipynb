{
 "cells": [
  {
   "cell_type": "code",
   "execution_count": 3,
   "metadata": {},
   "outputs": [],
   "source": [
    "import pandas as pd\n",
    "import os\n",
    "import cv2\n",
    "import numpy as np\n",
    "from torchvision import transforms\n",
    "import torch\n",
    "from collections import Counter\n"
   ]
  },
  {
   "cell_type": "code",
   "execution_count": 3,
   "metadata": {},
   "outputs": [],
   "source": [
    "directory = '/home/gaurangajitk/DL/data/sports-video-data/test_videos'\n",
    "sport_dic = {\n",
    "    'baseball': 0,\n",
    "    'basketball': 1,\n",
    "    'boxing': 2,\n",
    "    'football': 3,\n",
    "    'volleyball': 4\n",
    "}"
   ]
  },
  {
   "cell_type": "code",
   "execution_count": 4,
   "metadata": {},
   "outputs": [],
   "source": [
    "video = []\n",
    "labels = []\n",
    "for filename in os.listdir(directory):\n",
    "    f = os.path.join(directory, filename)\n",
    "    sport = filename.split('_')[0]\n",
    "    video.append(f)\n",
    "    labels.append(sport_dic[sport])\n",
    "df = pd.DataFrame(list(zip(video, labels)), columns=['video', 'label'])\n"
   ]
  },
  {
   "cell_type": "code",
   "execution_count": 5,
   "metadata": {},
   "outputs": [
    {
     "data": {
      "text/html": [
       "<div>\n",
       "<style scoped>\n",
       "    .dataframe tbody tr th:only-of-type {\n",
       "        vertical-align: middle;\n",
       "    }\n",
       "\n",
       "    .dataframe tbody tr th {\n",
       "        vertical-align: top;\n",
       "    }\n",
       "\n",
       "    .dataframe thead th {\n",
       "        text-align: right;\n",
       "    }\n",
       "</style>\n",
       "<table border=\"1\" class=\"dataframe\">\n",
       "  <thead>\n",
       "    <tr style=\"text-align: right;\">\n",
       "      <th></th>\n",
       "      <th>video</th>\n",
       "      <th>label</th>\n",
       "    </tr>\n",
       "  </thead>\n",
       "  <tbody>\n",
       "    <tr>\n",
       "      <th>0</th>\n",
       "      <td>/home/gaurangajitk/DL/data/sports-video-data/t...</td>\n",
       "      <td>4</td>\n",
       "    </tr>\n",
       "    <tr>\n",
       "      <th>1</th>\n",
       "      <td>/home/gaurangajitk/DL/data/sports-video-data/t...</td>\n",
       "      <td>2</td>\n",
       "    </tr>\n",
       "    <tr>\n",
       "      <th>2</th>\n",
       "      <td>/home/gaurangajitk/DL/data/sports-video-data/t...</td>\n",
       "      <td>0</td>\n",
       "    </tr>\n",
       "    <tr>\n",
       "      <th>3</th>\n",
       "      <td>/home/gaurangajitk/DL/data/sports-video-data/t...</td>\n",
       "      <td>0</td>\n",
       "    </tr>\n",
       "    <tr>\n",
       "      <th>4</th>\n",
       "      <td>/home/gaurangajitk/DL/data/sports-video-data/t...</td>\n",
       "      <td>3</td>\n",
       "    </tr>\n",
       "    <tr>\n",
       "      <th>5</th>\n",
       "      <td>/home/gaurangajitk/DL/data/sports-video-data/t...</td>\n",
       "      <td>3</td>\n",
       "    </tr>\n",
       "    <tr>\n",
       "      <th>6</th>\n",
       "      <td>/home/gaurangajitk/DL/data/sports-video-data/t...</td>\n",
       "      <td>2</td>\n",
       "    </tr>\n",
       "    <tr>\n",
       "      <th>7</th>\n",
       "      <td>/home/gaurangajitk/DL/data/sports-video-data/t...</td>\n",
       "      <td>4</td>\n",
       "    </tr>\n",
       "    <tr>\n",
       "      <th>8</th>\n",
       "      <td>/home/gaurangajitk/DL/data/sports-video-data/t...</td>\n",
       "      <td>1</td>\n",
       "    </tr>\n",
       "    <tr>\n",
       "      <th>9</th>\n",
       "      <td>/home/gaurangajitk/DL/data/sports-video-data/t...</td>\n",
       "      <td>1</td>\n",
       "    </tr>\n",
       "  </tbody>\n",
       "</table>\n",
       "</div>"
      ],
      "text/plain": [
       "                                               video  label\n",
       "0  /home/gaurangajitk/DL/data/sports-video-data/t...      4\n",
       "1  /home/gaurangajitk/DL/data/sports-video-data/t...      2\n",
       "2  /home/gaurangajitk/DL/data/sports-video-data/t...      0\n",
       "3  /home/gaurangajitk/DL/data/sports-video-data/t...      0\n",
       "4  /home/gaurangajitk/DL/data/sports-video-data/t...      3\n",
       "5  /home/gaurangajitk/DL/data/sports-video-data/t...      3\n",
       "6  /home/gaurangajitk/DL/data/sports-video-data/t...      2\n",
       "7  /home/gaurangajitk/DL/data/sports-video-data/t...      4\n",
       "8  /home/gaurangajitk/DL/data/sports-video-data/t...      1\n",
       "9  /home/gaurangajitk/DL/data/sports-video-data/t...      1"
      ]
     },
     "execution_count": 5,
     "metadata": {},
     "output_type": "execute_result"
    }
   ],
   "source": [
    "df"
   ]
  },
  {
   "cell_type": "code",
   "execution_count": 6,
   "metadata": {},
   "outputs": [],
   "source": [
    "df.to_csv('/home/gaurangajitk/DL/data/sports-video-data/test_videos.csv')"
   ]
  },
  {
   "cell_type": "code",
   "execution_count": 22,
   "metadata": {},
   "outputs": [],
   "source": [
    "data_transforms = transforms.Compose([\n",
    "        transforms.ToTensor(),\\\n",
    "        transforms.Resize(size=(170, 170), interpolation=transforms.functional.InterpolationMode.NEAREST),\\\n",
    "        transforms.Normalize((0.4914, 0.4822, 0.4465), (0.2023, 0.1994, 0.2010))\n",
    "         ])"
   ]
  },
  {
   "cell_type": "code",
   "execution_count": 28,
   "metadata": {},
   "outputs": [
    {
     "data": {
      "text/plain": [
       "torch.Size([886, 3, 170, 170])"
      ]
     },
     "execution_count": 28,
     "metadata": {},
     "output_type": "execute_result"
    }
   ],
   "source": [
    "path = df.video.iloc[0]\n",
    "cap = cv2.VideoCapture(path)\n",
    "frames = []\n",
    "while True:\n",
    "    ret, frame = cap.read()\n",
    "    if not ret:\n",
    "        break\n",
    "    frame = data_transforms(frame)\n",
    "    frames.append(frame)\n",
    "cap.release()\n",
    "b = torch.stack(frames)\n",
    "b.shape"
   ]
  },
  {
   "cell_type": "code",
   "execution_count": 4,
   "metadata": {},
   "outputs": [],
   "source": [
    "pred = torch.tensor([1,1,2,2,3,3,4,5,5,6,6,6,6])"
   ]
  },
  {
   "cell_type": "code",
   "execution_count": 7,
   "metadata": {},
   "outputs": [
    {
     "data": {
      "text/plain": [
       "[(6, 4), (1, 2), (2, 2), (3, 2), (5, 2), (4, 1)]"
      ]
     },
     "execution_count": 7,
     "metadata": {},
     "output_type": "execute_result"
    }
   ],
   "source": [
    "Counter(pred.tolist()).most_common()"
   ]
  },
  {
   "cell_type": "code",
   "execution_count": 13,
   "metadata": {},
   "outputs": [
    {
     "data": {
      "text/plain": [
       "1"
      ]
     },
     "execution_count": 13,
     "metadata": {},
     "output_type": "execute_result"
    }
   ],
   "source": [
    "int(pred[0])"
   ]
  }
 ],
 "metadata": {
  "interpreter": {
   "hash": "9ee9683fdfa7b35d9efa03fe6c9a658d126a8681914d3f8a30cd0a7db021a5f2"
  },
  "kernelspec": {
   "display_name": "Python 3.8.12 ('cascades')",
   "language": "python",
   "name": "python3"
  },
  "language_info": {
   "codemirror_mode": {
    "name": "ipython",
    "version": 3
   },
   "file_extension": ".py",
   "mimetype": "text/x-python",
   "name": "python",
   "nbconvert_exporter": "python",
   "pygments_lexer": "ipython3",
   "version": "3.8.12"
  },
  "orig_nbformat": 4
 },
 "nbformat": 4,
 "nbformat_minor": 2
}
